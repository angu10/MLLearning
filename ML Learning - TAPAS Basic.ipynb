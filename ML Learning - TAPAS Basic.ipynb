{
 "cells": [
  {
   "cell_type": "code",
   "execution_count": 1,
   "id": "b433bab8",
   "metadata": {},
   "outputs": [],
   "source": [
    "#!pip install transformers\n",
    "#!pip install torch\n",
    "#!pip install scipy\n",
    "#!pip install datasets"
   ]
  },
  {
   "cell_type": "code",
   "execution_count": 2,
   "id": "c90133e5",
   "metadata": {},
   "outputs": [
    {
     "name": "stderr",
     "output_type": "stream",
     "text": [
      "Repo card metadata block was not found. Setting CardData to empty.\n"
     ]
    }
   ],
   "source": [
    "from transformers import pipeline,TapasTokenizer, TapasForQuestionAnswering\n",
    "import pandas as pd\n",
    "import datasets\n",
    "\n",
    "\n",
    "\n",
    "# Load the dataset (only once)\n",
    "dataset = datasets.load_dataset(\"Kira-Asimov/gender_clinical_trial\")\n",
    "\n",
    "\n"
   ]
  },
  {
   "cell_type": "code",
   "execution_count": 3,
   "id": "db024a17",
   "metadata": {},
   "outputs": [],
   "source": [
    "# Create the clinical_trials_data DataFrame with just the \"label\" column (only once)\n",
    "clinical_trials_data = pd.DataFrame({\n",
    "    \"id\": dataset[\"train\"][\"id\"],\n",
    "    \"label\": dataset[\"train\"][\"label\"],\n",
    "})\n",
    "\n",
    "clinical_trials_data = clinical_trials_data.head(100)\n"
   ]
  },
  {
   "cell_type": "code",
   "execution_count": 4,
   "id": "9ab0e95b",
   "metadata": {},
   "outputs": [
    {
     "data": {
      "text/html": [
       "<div>\n",
       "<style scoped>\n",
       "    .dataframe tbody tr th:only-of-type {\n",
       "        vertical-align: middle;\n",
       "    }\n",
       "\n",
       "    .dataframe tbody tr th {\n",
       "        vertical-align: top;\n",
       "    }\n",
       "\n",
       "    .dataframe thead th {\n",
       "        text-align: right;\n",
       "    }\n",
       "</style>\n",
       "<table border=\"1\" class=\"dataframe\">\n",
       "  <thead>\n",
       "    <tr style=\"text-align: right;\">\n",
       "      <th></th>\n",
       "      <th>id</th>\n",
       "      <th>label</th>\n",
       "    </tr>\n",
       "  </thead>\n",
       "  <tbody>\n",
       "    <tr>\n",
       "      <th>0</th>\n",
       "      <td>NCT00000102</td>\n",
       "      <td>All</td>\n",
       "    </tr>\n",
       "    <tr>\n",
       "      <th>1</th>\n",
       "      <td>NCT00000104</td>\n",
       "      <td>Female</td>\n",
       "    </tr>\n",
       "    <tr>\n",
       "      <th>2</th>\n",
       "      <td>NCT00000105</td>\n",
       "      <td>All</td>\n",
       "    </tr>\n",
       "    <tr>\n",
       "      <th>3</th>\n",
       "      <td>NCT00000106</td>\n",
       "      <td>All</td>\n",
       "    </tr>\n",
       "    <tr>\n",
       "      <th>4</th>\n",
       "      <td>NCT00000107</td>\n",
       "      <td>All</td>\n",
       "    </tr>\n",
       "    <tr>\n",
       "      <th>...</th>\n",
       "      <td>...</td>\n",
       "      <td>...</td>\n",
       "    </tr>\n",
       "    <tr>\n",
       "      <th>95</th>\n",
       "      <td>NCT00000297</td>\n",
       "      <td>All</td>\n",
       "    </tr>\n",
       "    <tr>\n",
       "      <th>96</th>\n",
       "      <td>NCT00000298</td>\n",
       "      <td>All</td>\n",
       "    </tr>\n",
       "    <tr>\n",
       "      <th>97</th>\n",
       "      <td>NCT00000299</td>\n",
       "      <td>All</td>\n",
       "    </tr>\n",
       "    <tr>\n",
       "      <th>98</th>\n",
       "      <td>NCT00000300</td>\n",
       "      <td>All</td>\n",
       "    </tr>\n",
       "    <tr>\n",
       "      <th>99</th>\n",
       "      <td>NCT00000301</td>\n",
       "      <td>All</td>\n",
       "    </tr>\n",
       "  </tbody>\n",
       "</table>\n",
       "<p>100 rows × 2 columns</p>\n",
       "</div>"
      ],
      "text/plain": [
       "             id   label\n",
       "0   NCT00000102     All\n",
       "1   NCT00000104  Female\n",
       "2   NCT00000105     All\n",
       "3   NCT00000106     All\n",
       "4   NCT00000107     All\n",
       "..          ...     ...\n",
       "95  NCT00000297     All\n",
       "96  NCT00000298     All\n",
       "97  NCT00000299     All\n",
       "98  NCT00000300     All\n",
       "99  NCT00000301     All\n",
       "\n",
       "[100 rows x 2 columns]"
      ]
     },
     "execution_count": 4,
     "metadata": {},
     "output_type": "execute_result"
    }
   ],
   "source": [
    "clinical_trials_data"
   ]
  },
  {
   "cell_type": "code",
   "execution_count": 7,
   "id": "4c660d0c",
   "metadata": {},
   "outputs": [],
   "source": [
    "counts = {}\n",
    "answers = []\n",
    "\n",
    "def TAPAS_model_learning(clinical_trials_data):\n",
    "    model_name = \"google/tapas-base-finetuned-wtq\"\n",
    "    model = TapasForQuestionAnswering.from_pretrained(model_name)\n",
    "    tokenizer = TapasTokenizer.from_pretrained(model_name)\n",
    "\n",
    "\n",
    "    queries = [\n",
    "        \"How many records are in total ?\",\n",
    "        \"How many 'Male' only gender studies are in total ?\",\n",
    "        \"How many 'Female' only gender studies are in total ?\",\n",
    "    ]\n",
    "\n",
    "    for query in queries:\n",
    "            model_name = \"google/tapas-base-finetuned-wtq\"\n",
    "            model = TapasForQuestionAnswering.from_pretrained(model_name)\n",
    "            tokenizer = TapasTokenizer.from_pretrained(model_name)\n",
    "            # Tokenize the query and table\n",
    "            inputs = tokenizer(table=clinical_trials_data, queries=query, padding=\"max_length\", return_tensors=\"pt\", truncation=True)\n",
    "\n",
    "            # Get the model's output\n",
    "            outputs = model(**inputs)\n",
    "            predicted_answer_coordinates, predicted_aggregation_indices = tokenizer.convert_logits_to_predictions(\n",
    "                inputs, outputs.logits.detach(), outputs.logits_aggregation.detach()\n",
    "            )\n",
    "\n",
    "            # Initialize variables to store answers for the current query\n",
    "            current_answers = []\n",
    "\n",
    "            # Count the number of cells in the answer coordinates\n",
    "            count = 0\n",
    "            for coordinates in predicted_answer_coordinates:\n",
    "                count += len(coordinates)\n",
    "                # Collect the cell values for the current answer\n",
    "                cell_values = []\n",
    "                for coordinate in coordinates:\n",
    "                    cell_values.append(clinical_trials_data.iat[coordinate])\n",
    "\n",
    "                current_answers.append(\", \".join(cell_values))\n",
    "\n",
    "            # Check if there are no matching cells for the query\n",
    "            if count == 0:\n",
    "                current_answers = [\"No matching cells\"]\n",
    "            counts[query] = count\n",
    "            answers.append(current_answers)\n",
    "    return counts,answers"
   ]
  },
  {
   "cell_type": "code",
   "execution_count": 8,
   "id": "e2a78c79",
   "metadata": {},
   "outputs": [
    {
     "name": "stdout",
     "output_type": "stream",
     "text": [
      "{'How many records are in total ?': 69, \"How many 'Male' only gender studies are in total ?\": 3, \"How many 'Female' only gender studies are in total ?\": 2}\n",
      "How many records are in total ?: Model Value: 69, Excepted Value: 100, Error Percentage: 31.00%\n",
      "How many 'Male' only gender studies are in total ?: Model Value: 3, Excepted Value: 3, Error Percentage: 0.00%\n",
      "How many 'Female' only gender studies are in total ?: Model Value: 2, Excepted Value: 9, Error Percentage: 77.78%\n"
     ]
    }
   ],
   "source": [
    "# Prepare your variations of the same question and their expected answers\n",
    "question_variations = {\n",
    "    \"How many records are in total ?\": 100,\n",
    "    \"How many 'Male' only gender studies are in total ?\": 3,\n",
    "    \"How many 'Female' only gender studies are in total ?\":9,\n",
    "}\n",
    "\n",
    "\n",
    "\n",
    "# Use TAPAS to predict the answer based on your tabular data and the question\n",
    "predicted_count,predicted_answer = TAPAS_model_learning(clinical_trials_data)\n",
    "print(predicted_count)\n",
    "# Check if any predicted answer matches the expected answer\n",
    "for key,value in predicted_count.items():\n",
    "    error = question_variations[key] - value\n",
    "    \n",
    "\n",
    "    # Calculate the accuracy percentage\n",
    "    error_percentage = (error / question_variations[key]) * 100\n",
    "\n",
    "    # Print the results\n",
    "    print(f\"{key}: Model Value: {value}, Excepted Value: {question_variations[key]}, Error Percentage: {error_percentage :.2f}%\")\n"
   ]
  },
  {
   "cell_type": "code",
   "execution_count": null,
   "id": "515fd902",
   "metadata": {},
   "outputs": [],
   "source": []
  }
 ],
 "metadata": {
  "kernelspec": {
   "display_name": "Python 3 (ipykernel)",
   "language": "python",
   "name": "python3"
  },
  "language_info": {
   "codemirror_mode": {
    "name": "ipython",
    "version": 3
   },
   "file_extension": ".py",
   "mimetype": "text/x-python",
   "name": "python",
   "nbconvert_exporter": "python",
   "pygments_lexer": "ipython3",
   "version": "3.9.12"
  }
 },
 "nbformat": 4,
 "nbformat_minor": 5
}
